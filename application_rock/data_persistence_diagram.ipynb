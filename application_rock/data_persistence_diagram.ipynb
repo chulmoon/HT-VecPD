{
 "cells": [
  {
   "cell_type": "code",
   "execution_count": null,
   "id": "409df0af-7324-4dc4-9f18-a13f30ff08e9",
   "metadata": {},
   "outputs": [],
   "source": [
    "import numpy as np\n",
    "import pandas as pd\n",
    "import scipy as sp\n",
    "import random\n",
    "import math\n",
    "import os\n",
    "import matplotlib.pyplot as plt\n",
    "from scipy.ndimage.filters import gaussian_filter\n",
    "import gudhi as gd\n",
    "from scipy.ndimage import distance_transform_bf"
   ]
  },
  {
   "cell_type": "markdown",
   "id": "9a9417de-9c7a-49bd-9eb8-10f3f74508b8",
   "metadata": {},
   "source": [
    "Raw data (F42B.dat, F42C.dat, LV60A.dat, and LV60C.dat) are downloadable from [The Imperial College Consortium on Pore-Scale Modelling and Imaging website](https://www.imperial.ac.uk/earth-science/research/research-groups/pore-scale-modelling/micro-ct-images-and-networks/)"
   ]
  },
  {
   "cell_type": "code",
   "execution_count": null,
   "id": "e494ba12-2644-4088-92f1-f8a62b59bc5a",
   "metadata": {},
   "outputs": [],
   "source": [
    "# convert list to array\n",
    "def pdarray(pd):\n",
    "    pd_array=np.zeros((len(pd),3))\n",
    "    for i in range(0,len(pd)):\n",
    "        pd_array[i,0]=np.asarray(pd[i][0])\n",
    "        pd_array[i,1]=np.asarray(pd[i][1][0])\n",
    "        pd_array[i,2]=np.asarray(pd[i][1][1])\n",
    "    return pd_array;"
   ]
  },
  {
   "cell_type": "code",
   "execution_count": null,
   "id": "2138c06b-b328-4ea3-a1bc-265888b36bfe",
   "metadata": {},
   "outputs": [],
   "source": [
    "def computepd(name):\n",
    "    with open(name+\".dat\",'r') as f:\n",
    "    df = pd.DataFrame(l.rstrip().split() for l in f)\n",
    "    \n",
    "    dataarray=df.values\n",
    "    dataarray=dataarray.astype(int)\n",
    "\n",
    "    data3d=np.zeros((300,300,300))\n",
    "    for ii in range(1,300):\n",
    "        data3d[:,:,ii]=dataarray[300*(ii):300*(ii+1),:]\n",
    "    \n",
    "    X=100\n",
    "    Y=100\n",
    "    Z=100\n",
    "\n",
    "    for ii in range(0,3):\n",
    "        for jj in range(0,3):\n",
    "            for kk in range(0,3):\n",
    "                a=X*(ii)\n",
    "                b=X*(ii+1)\n",
    "\n",
    "                c=Y*(jj)\n",
    "                d=Y*(jj+1)\n",
    "\n",
    "                e=Z*(kk)\n",
    "                f=Z*(kk+1)        \n",
    "\n",
    "                df_sub=data3d[a:b, c:d, e:f]\n",
    "\n",
    "                distimgp=distance_transform_bf(df_sub,metric='euclidean')\n",
    "                distimgn=distance_transform_bf(1-df_sub,metric='euclidean')\n",
    "\n",
    "                distimgp = distimgp.astype(np.int16)\n",
    "                distimgn = distimgn.astype(np.int16)\n",
    "\n",
    "                distimg=distimgp-distimgn+0.00001\n",
    "\n",
    "                per_disimg=np.ravel(distimg)\n",
    "                per_disimg_fin=np.array(per_disimg.flatten())\n",
    "\n",
    "                info=np.array([3,X,Y,Z])\n",
    "\n",
    "                # write txt file\n",
    "                outfile = \"./data/\"+name+\"_distance\" + str(ii) + str(jj) + str(kk) + \".txt\"\n",
    "                f= open(outfile,\"w+\")\n",
    "                for ll in range(0,len(info)):\n",
    "                    f.write(\"%d\\n\" % (info[ll]) )\n",
    "                for mm in range(0,len(per_disimg_fin)):  \n",
    "                    f.write(\"%f\\n\" % (per_disimg_fin[mm]))\n",
    "                f.close()\n",
    "\n",
    "                md_cubical_complex = gd.CubicalComplex(perseus_file= outfile)\n",
    "                md_cc_diag=md_cubical_complex.persistence()\n",
    "                pd_array=pdarray(md_cc_diag)\n",
    "                np.savetxt(\"./data/\"+name+\"_pd\"+ str(ii) + str(jj) + str(kk) +'.txt',pd_array,fmt='%9f')\n",
    "                \n",
    "                os.remove(outfile)"
   ]
  },
  {
   "cell_type": "markdown",
   "id": "33d1e22d-f7b4-4b10-8f86-7a6aa9f9e76c",
   "metadata": {},
   "source": [
    "Compute persistence diagrams"
   ]
  },
  {
   "cell_type": "code",
   "execution_count": null,
   "id": "6d507bc3-b82c-430c-8af6-0bc3515341d0",
   "metadata": {
    "tags": []
   },
   "outputs": [],
   "source": [
    "computepd(\"F42B\")\n",
    "computepd(\"F42C\")\n",
    "computepd(\"LV60A\")\n",
    "computepd(\"LV60C\")"
   ]
  }
 ],
 "metadata": {
  "kernelspec": {
   "display_name": "Python 3 (ipykernel)",
   "language": "python",
   "name": "python3"
  },
  "language_info": {
   "codemirror_mode": {
    "name": "ipython",
    "version": 3
   },
   "file_extension": ".py",
   "mimetype": "text/x-python",
   "name": "python",
   "nbconvert_exporter": "python",
   "pygments_lexer": "ipython3",
   "version": "3.7.4"
  }
 },
 "nbformat": 4,
 "nbformat_minor": 5
}
