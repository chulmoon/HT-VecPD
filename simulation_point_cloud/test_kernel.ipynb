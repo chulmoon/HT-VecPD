{
 "cells": [
  {
   "cell_type": "code",
   "execution_count": null,
   "id": "48fc8024-d119-451e-b706-f0be975d28ca",
   "metadata": {},
   "outputs": [],
   "source": [
    "from tda import PD, PWGK, PL, PSSK\n",
    "\n",
    "import tda\n",
    "import numpy as np\n",
    "import os\n",
    "import random\n",
    "import json\n",
    "\n",
    "from itertools import combinations"
   ]
  },
  {
   "cell_type": "code",
   "execution_count": null,
   "id": "bd48bc3a-dde2-4369-b7bd-6980e261ede8",
   "metadata": {},
   "outputs": [],
   "source": [
    "# compute MMDu\n",
    "def n_mmd(mat_gram, unbias=True):\n",
    "    n_total = mat_gram.shape[0]\n",
    "    n = int(n_total / 2)\n",
    "    mat_xx = mat_gram[0:n, 0:n]\n",
    "    mat_yy = mat_gram[n:n_total, n:n_total]\n",
    "    mat_xy = mat_gram[0:n, n:n_total]\n",
    "    sum_xx = sum(sum(mat_xx))\n",
    "    sum_yy = sum(sum(mat_yy))\n",
    "    sum_xy = sum(sum(mat_xy))\n",
    "    if unbias:\n",
    "        sum_xx -= sum(np.diag(mat_xx))\n",
    "        sum_yy -= sum(np.diag(mat_yy))\n",
    "        sum_xy -= sum(np.diag(mat_xy))\n",
    "        return (sum_xx + sum_yy - 2 * sum_xy) / (n - 1)\n",
    "    else:\n",
    "        return (sum_xx + sum_yy - 2 * sum_xy) / n\n",
    "\n",
    "\n",
    "def hist_wchi(mat_gram, num_hist=int(1e+4)):\n",
    "    n = len(mat_gram)\n",
    "\n",
    "    # centered Gram matrix\n",
    "    mat_center = np.empty((n, n))\n",
    "    vec_gram = sum(mat_gram)\n",
    "    val_total = sum(vec_gram)\n",
    "    for i in range(n):\n",
    "        for j in range(i + 1):\n",
    "            mat_center[i, j] = (mat_gram[i, j]\n",
    "                                - ((vec_gram[i] + vec_gram[j]) / n)\n",
    "                                + (val_total / (n ** 2)))\n",
    "            mat_center[j, i] = mat_center[i, j]\n",
    "\n",
    "    # estimated eigenvalues\n",
    "    vec_nu = np.sort(np.linalg.eigh(mat_center)[0])[::-1][0: - 1]\n",
    "    vec_lambda = vec_nu / (n - 1)\n",
    "    sum_lambda = sum(vec_lambda)\n",
    "\n",
    "    # histogram of the null distribution (weighted chi square)\n",
    "    vec_hist = np.empty(num_hist)\n",
    "    for i in range(num_hist):\n",
    "        vec_z = np.random.normal(0, np.sqrt(2), n - 1) ** 2\n",
    "        vec_hist[i] = np.inner(vec_lambda, vec_z) - 2 * sum_lambda\n",
    "\n",
    "    return np.sort(vec_hist)[::-1]\n",
    "\n",
    "\n",
    "def extract_submat(mat_gram, num_m=None):\n",
    "    n_total = mat_gram.shape[0]\n",
    "    n = int(n_total / 2)\n",
    "    if num_m is None:\n",
    "        num_m = n - 1\n",
    "    d = int(2 * num_m)\n",
    "    mat = np.empty((d, d))\n",
    "    idx_x = random.sample(range(0, n), num_m)\n",
    "    idx_y = random.sample(range(n, n_total), num_m)\n",
    "    idx_xy = idx_x + idx_y\n",
    "    for i, a in enumerate(idx_xy):\n",
    "        for j, b in enumerate(idx_xy):\n",
    "            mat[i, j] = mat_gram[a, b]\n",
    "    return mat\n",
    "\n",
    "\n",
    "def two_sample_test(mat_gram, alpha=0.05, num_m=None, num_test=500):\n",
    "    vec_wchi = hist_wchi(mat_gram)                    # null distribution of psi-hat\n",
    "    vec_p_value = np.empty(num_test)\n",
    "    for temp_test in range(num_test):                 # for l=1,...,N\n",
    "        mat_reduced = extract_submat(mat_gram, num_m)  # resample m samples\n",
    "        value_mmd = n_mmd(mat_reduced)                 # compute mMMDu\n",
    "        vec_temp = np.where(vec_wchi > value_mmd)[0]   # how many psi-hat's are greater than mMMDu?\n",
    "        vec_p_value[temp_test] = len(vec_temp) / len(vec_wchi)\n",
    "    return vec_p_value, len(np.where(vec_p_value < alpha)[0]) / num_test\n"
   ]
  },
  {
   "cell_type": "markdown",
   "id": "9d6bfb3c-67fc-452e-aa2f-8604f44ab57b",
   "metadata": {},
   "source": [
    "# False positive rate"
   ]
  },
  {
   "cell_type": "code",
   "execution_count": null,
   "id": "ebbe3c21-a7c3-4b85-93f5-ed4ad00f38af",
   "metadata": {},
   "outputs": [],
   "source": [
    "# simulation parameters\n",
    "npc=10\n",
    "nset=500\n",
    "nsig=4"
   ]
  },
  {
   "cell_type": "code",
   "execution_count": null,
   "id": "c4023cc1-0e06-4430-ac27-4942fb35d970",
   "metadata": {},
   "outputs": [],
   "source": [
    "# import PD - json, each pds are saved as unnamed array\n",
    "\n",
    "with open(\"twopd.json\") as f:\n",
    "    twopd = json.load(f)\n",
    "\n",
    "twopdlist=[]\n",
    "for ii in range(len(twopd)):\n",
    "    twopdsublist = []\n",
    "    for jj in range(len(twopd[0])):\n",
    "        twopddat = np.array(twopd[ii][jj])\n",
    "        twopdmat = np.transpose( np.resize(twopddat, (3,int(len(twopddat)/3)) ) )\n",
    "        twopddim1 = twopdmat[twopdmat[:,0]==1,1:]\n",
    "        twopdsublist.append(twopddim1)\n",
    "    twopdlist.append(twopdsublist)"
   ]
  },
  {
   "cell_type": "code",
   "execution_count": null,
   "id": "5c31debc-cd76-448b-80d6-9d32d6f7d255",
   "metadata": {},
   "outputs": [],
   "source": [
    "comb = np.array(list(combinations(range(nset), 2)))\n",
    "random.seed(2)\n",
    "ind=random.sample(range(len(comb)),nset)"
   ]
  },
  {
   "cell_type": "code",
   "execution_count": null,
   "id": "892139a8-566f-427b-b963-6b7ab4957418",
   "metadata": {},
   "outputs": [],
   "source": [
    "# functions for PWGK\n",
    "func_kernel = tda.function_kernel(\"Gaussian\", sigma=(0.5) )"
   ]
  },
  {
   "cell_type": "markdown",
   "id": "1f4cc1d0-4456-455e-a320-ac221d9d2ea8",
   "metadata": {},
   "source": [
    "## constant weight"
   ]
  },
  {
   "cell_type": "code",
   "execution_count": null,
   "id": "787f1c40-3f6c-45e9-8973-38566a0ae07d",
   "metadata": {},
   "outputs": [],
   "source": [
    "# no weight\n",
    "func_weight = tda.function_weight(\"none\")\n",
    "perz_cons=np.zeros((nsig,nset))\n",
    "for ii in range(nsig):\n",
    "    print(ii)\n",
    "    for jj in range(nset):\n",
    "        # import dimension one PDs\n",
    "        combpdlist = twopdlist[ii][npc*(comb[ind[jj]][0]):npc*(comb[ind[jj]][0]+1)]\n",
    "        combpdlist.extend(twopdlist[ii][npc*(comb[ind[jj]][1]):npc*(comb[ind[jj]][1]+1)])\n",
    "        # compute gram matrix\n",
    "        pwgk = PWGK(combpdlist, func_kernel, func_weight, sigma=(0.5),approx=True)\n",
    "        mat_gaussian_pwgk = pwgk.gram_matrix()\n",
    "        # define gram matrix\n",
    "        name_rkhs = [\"Linear\", \"Gaussian\"][1]\n",
    "        mat_gram_pwgk = tda.matrix_gram(mat_gaussian_pwgk, name_rkhs)[0]\n",
    "        num_reject = two_sample_test(mat_gram_pwgk, alpha=0.05, num_m=10, num_test=1000)[1]\n",
    "        perz_cons[ii,jj]=num_reject"
   ]
  },
  {
   "cell_type": "code",
   "execution_count": null,
   "id": "f7eea54e-2912-483b-abd4-f2dc9b31b5e0",
   "metadata": {},
   "outputs": [],
   "source": [
    "1-np.sum(perz_cons<0.05,axis=1)/nset # constant"
   ]
  },
  {
   "cell_type": "markdown",
   "id": "34abb55a-a8fa-4787-bb23-80345267f5a2",
   "metadata": {},
   "source": [
    "## arctangent weight"
   ]
  },
  {
   "cell_type": "code",
   "execution_count": null,
   "id": "6a1a386a-86ee-4bf2-b255-4dccf713c795",
   "metadata": {},
   "outputs": [],
   "source": [
    "# arctan weight\n",
    "func_weight = tda.function_weight(\"arctan\", arc_c=0.5, arc_p=0.5, lin_el=1)\n",
    "perz_arctan=np.zeros((nsig,nset))\n",
    "for ii in range(nsig):\n",
    "    print(ii)\n",
    "    for jj in range(nset):\n",
    "        # import dimension one PDs\n",
    "        combpdlist = twopdlist[ii][npc*(comb[ind[jj]][0]):npc*(comb[ind[jj]][0]+1)]\n",
    "        combpdlist.extend(twopdlist[ii][npc*(comb[ind[jj]][1]):npc*(comb[ind[jj]][1]+1)])\n",
    "        # compute gram matrix\n",
    "        pwgk = PWGK(combpdlist, func_kernel, func_weight, sigma=(0.5),approx=True)\n",
    "        mat_gaussian_pwgk = pwgk.gram_matrix()\n",
    "        # define gram matrix\n",
    "        name_rkhs = [\"Linear\", \"Gaussian\"][1]\n",
    "        mat_gram_pwgk = tda.matrix_gram(mat_gaussian_pwgk, name_rkhs)[0]\n",
    "        num_reject = two_sample_test(mat_gram_pwgk, alpha=0.05, num_m=10, num_test=1000)[1]\n",
    "        perz_arctan[ii,jj]=num_reject"
   ]
  },
  {
   "cell_type": "code",
   "execution_count": null,
   "id": "bdd8b5ba-2446-46c2-8fd4-a96162cd0ad6",
   "metadata": {},
   "outputs": [],
   "source": [
    "1-np.sum(perz_arctan<0.05,axis=1)/nset # constant"
   ]
  },
  {
   "cell_type": "markdown",
   "id": "26e68f49-7db6-446c-aaa3-93356934d0e8",
   "metadata": {},
   "source": [
    "## linear weight"
   ]
  },
  {
   "cell_type": "code",
   "execution_count": null,
   "id": "3de0ff12-80fe-4cdb-80f7-a703895e0d1d",
   "metadata": {},
   "outputs": [],
   "source": [
    "# linear weight\n",
    "func_weight = tda.function_weight(\"linear\", lin_el=1)\n",
    "perz_linear=np.zeros((nsig,nset))\n",
    "for ii in range(nsig):\n",
    "    print(ii)\n",
    "    for jj in range(nset):\n",
    "        # import dimension one PDs\n",
    "        combpdlist = twopdlist[ii][npc*(comb[ind[jj]][0]):npc*(comb[ind[jj]][0]+1)]\n",
    "        combpdlist.extend(twopdlist[ii][npc*(comb[ind[jj]][1]):npc*(comb[ind[jj]][1]+1)])\n",
    "        # compute gram matrix\n",
    "        pwgk = PWGK(combpdlist, func_kernel, func_weight, sigma=(0.5),approx=True)\n",
    "        mat_gaussian_pwgk = pwgk.gram_matrix()\n",
    "        # define gram matrix\n",
    "        name_rkhs = [\"Linear\", \"Gaussian\"][1]\n",
    "        mat_gram_pwgk = tda.matrix_gram(mat_gaussian_pwgk, name_rkhs)[0]\n",
    "        num_reject = two_sample_test(mat_gram_pwgk, alpha=0.05, num_m=10, num_test=1000)[1]\n",
    "        perz_linear[ii,jj]=num_reject"
   ]
  },
  {
   "cell_type": "code",
   "execution_count": null,
   "id": "c7fd01b5-ed5f-4b8a-bfe1-469d75c0a874",
   "metadata": {},
   "outputs": [],
   "source": [
    "1-np.sum(perz_linear<0.05,axis=1)/nset # constant"
   ]
  },
  {
   "cell_type": "markdown",
   "id": "eb0931d0-3faf-4976-89e4-e8b8c82abdf9",
   "metadata": {},
   "source": [
    "# Power"
   ]
  },
  {
   "cell_type": "code",
   "execution_count": null,
   "id": "39ad27cb-f54d-4cca-87f0-2f7613c231d8",
   "metadata": {},
   "outputs": [],
   "source": [
    "# import PD - json, each pds are saved as unnamed array\n",
    "\n",
    "with open(\"onepd.json\") as f:\n",
    "    onepd = json.load(f)\n",
    "with open(\"twopd.json\") as f:\n",
    "    twopd = json.load(f)\n",
    "\n",
    "# convert json (saved as unnamed array) to python list\n",
    "onepdlist=[]\n",
    "for ii in range(len(onepd)):\n",
    "    onepdsublist = []\n",
    "    for jj in range(len(onepd[0])):\n",
    "        onepddat = np.array(onepd[ii][jj])\n",
    "        onepdmat = np.transpose( np.resize(onepddat, (3,int(len(onepddat)/3)) ) )\n",
    "        onepddim1 = onepdmat[onepdmat[:,0]==1,1:]\n",
    "        onepdsublist.append(onepddim1)\n",
    "    onepdlist.append(onepdsublist)\n",
    "    \n",
    "twopdlist=[]\n",
    "for ii in range(len(twopd)):\n",
    "    twopdsublist = []\n",
    "    for jj in range(len(twopd[0])):\n",
    "        twopddat = np.array(twopd[ii][jj])\n",
    "        twopdmat = np.transpose( np.resize(twopddat, (3,int(len(twopddat)/3)) ) )\n",
    "        twopddim1 = twopdmat[twopdmat[:,0]==1,1:]\n",
    "        twopdsublist.append(twopddim1)\n",
    "    twopdlist.append(twopdsublist)"
   ]
  },
  {
   "cell_type": "code",
   "execution_count": null,
   "id": "1d4b201b-113b-4216-8b23-639e496d4278",
   "metadata": {},
   "outputs": [],
   "source": [
    "# functions for PWGK\n",
    "func_kernel = tda.function_kernel(\"Gaussian\", sigma=0.5 )"
   ]
  },
  {
   "cell_type": "markdown",
   "id": "a60efe1e-627e-400d-a535-0c0faef91bca",
   "metadata": {},
   "source": [
    "## linear weight"
   ]
  },
  {
   "cell_type": "code",
   "execution_count": null,
   "id": "b624a4cf-35f5-4c05-bdba-d6443077f5d7",
   "metadata": {},
   "outputs": [],
   "source": [
    "# linear\n",
    "func_weight = tda.function_weight(\"linear\", lin_el=1)\n",
    "perz_linear=np.zeros((nsig,nset))\n",
    "for ii in range(nsig):\n",
    "    print(ii)\n",
    "    for jj in range(nset):\n",
    "        # import dimension one PDs\n",
    "        combpdlist = onepdlist[ii][npc*(jj):npc*(jj+1)]\n",
    "        combpdlist.extend(twopdlist[ii][npc*(jj):npc*(jj+1)])\n",
    "        # compute gram matrix\n",
    "        pwgk = PWGK(combpdlist, func_kernel, func_weight, sigma=0.5,approx=True)\n",
    "        mat_gaussian_pwgk = pwgk.gram_matrix()\n",
    "        # define gram matrix\n",
    "        name_rkhs = [\"Linear\", \"Gaussian\"][1]\n",
    "        mat_gram_pwgk = tda.matrix_gram(mat_gaussian_pwgk, name_rkhs)[0]\n",
    "        num_reject = two_sample_test(mat_gram_pwgk, alpha=0.05, num_m=10, num_test=1000)[1]\n",
    "        perz_linear[ii,jj]=num_reject"
   ]
  },
  {
   "cell_type": "code",
   "execution_count": null,
   "id": "b9e0b3c9-b0f5-422d-ba4a-22c55bbaaf37",
   "metadata": {},
   "outputs": [],
   "source": [
    "1-np.sum(perz_linear<0.05,axis=1)/nset # linear"
   ]
  },
  {
   "cell_type": "markdown",
   "id": "a8421d99-6590-459b-b4f7-df7f4eaa68ce",
   "metadata": {},
   "source": [
    "## arctangent weight"
   ]
  },
  {
   "cell_type": "code",
   "execution_count": null,
   "id": "89a5836a-b825-4b57-bab6-25363305940a",
   "metadata": {},
   "outputs": [],
   "source": [
    "# arctan\n",
    "func_weight = tda.function_weight(\"arctan\", arc_c=0.5, arc_p=0.5, lin_el=1)\n",
    "perz_arctan=np.zeros((nsig,nset))\n",
    "for ii in range(nsig):\n",
    "    print(ii)\n",
    "    for jj in range(nset):\n",
    "        # import dimension one PDs\n",
    "        combpdlist = onepdlist[ii][npc*(jj):npc*(jj+1)]\n",
    "        combpdlist.extend(twopdlist[ii][npc*(jj):npc*(jj+1)])\n",
    "        # compute gram matrix\n",
    "        pwgk = PWGK(combpdlist, func_kernel, func_weight, sigma=0.5,approx=True)\n",
    "        mat_gaussian_pwgk = pwgk.gram_matrix()\n",
    "        # define gram matrix\n",
    "        name_rkhs = [\"Linear\", \"Gaussian\"][1]\n",
    "        mat_gram_pwgk = tda.matrix_gram(mat_gaussian_pwgk, name_rkhs)[0]\n",
    "        num_reject = two_sample_test(mat_gram_pwgk, alpha=0.05, num_m=10, num_test=1000)[1]\n",
    "        perz_arctan[ii,jj]=num_reject"
   ]
  },
  {
   "cell_type": "code",
   "execution_count": null,
   "id": "dc997c6a-53ea-4aab-9504-ed080d1735f0",
   "metadata": {},
   "outputs": [],
   "source": [
    "1-np.sum(perz_arctan<0.05,axis=1)/nset # soft-arc"
   ]
  },
  {
   "cell_type": "markdown",
   "id": "8b3ff2e7-45f4-4ea2-93b2-e3e6e47314f3",
   "metadata": {},
   "source": [
    "## constant weight"
   ]
  },
  {
   "cell_type": "code",
   "execution_count": null,
   "id": "bc3c42b7-7855-45c9-abc2-c13cf7831767",
   "metadata": {},
   "outputs": [],
   "source": [
    "# constant\n",
    "func_weight = tda.function_weight(\"constant\", lin_el=1)\n",
    "perz_cons=np.zeros((nsig,nset))\n",
    "for ii in range(nsig):\n",
    "    print(ii)\n",
    "    for jj in range(nset):\n",
    "        # import dimension one PDs\n",
    "        combpdlist = onepdlist[ii][npc*(jj):npc*(jj+1)]\n",
    "        combpdlist.extend(twopdlist[ii][npc*(jj):npc*(jj+1)])\n",
    "        # compute gram matrix\n",
    "        pwgk = PWGK(combpdlist, func_kernel, func_weight, sigma=0.5,approx=True)\n",
    "        mat_gaussian_pwgk = pwgk.gram_matrix()\n",
    "        # define gram matrix\n",
    "        name_rkhs = [\"Linear\", \"Gaussian\"][1]\n",
    "        mat_gram_pwgk = tda.matrix_gram(mat_gaussian_pwgk, name_rkhs)[0]\n",
    "        num_reject = two_sample_test(mat_gram_pwgk, alpha=0.05, num_m=10, num_test=1000)[1]\n",
    "        perz_cons[ii,jj]=num_reject"
   ]
  },
  {
   "cell_type": "code",
   "execution_count": null,
   "id": "d9cb1f87-eaf0-4237-b288-d7738f18d1db",
   "metadata": {},
   "outputs": [],
   "source": [
    "1-np.sum(perz_cons<0.05,axis=1)/nset # constant"
   ]
  }
 ],
 "metadata": {
  "kernelspec": {
   "display_name": "Python 3 (ipykernel)",
   "language": "python",
   "name": "python3"
  },
  "language_info": {
   "codemirror_mode": {
    "name": "ipython",
    "version": 3
   },
   "file_extension": ".py",
   "mimetype": "text/x-python",
   "name": "python",
   "nbconvert_exporter": "python",
   "pygments_lexer": "ipython3",
   "version": "3.7.4"
  }
 },
 "nbformat": 4,
 "nbformat_minor": 5
}
