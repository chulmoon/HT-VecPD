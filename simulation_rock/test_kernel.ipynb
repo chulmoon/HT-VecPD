{
 "cells": [
  {
   "cell_type": "code",
   "execution_count": null,
   "id": "48fc8024-d119-451e-b706-f0be975d28ca",
   "metadata": {},
   "outputs": [],
   "source": [
    "from tda import PD, PWGK, PL, PSSK\n",
    "import tda\n",
    "import numpy as np\n",
    "import os\n",
    "import random\n",
    "import json\n",
    "from itertools import combinations"
   ]
  },
  {
   "cell_type": "code",
   "execution_count": null,
   "id": "bd48bc3a-dde2-4369-b7bd-6980e261ede8",
   "metadata": {},
   "outputs": [],
   "source": [
    "# compute MMDu\n",
    "def n_mmd(mat_gram, unbias=True):\n",
    "    n_total = mat_gram.shape[0]\n",
    "    n = int(n_total / 2)\n",
    "    mat_xx = mat_gram[0:n, 0:n]\n",
    "    mat_yy = mat_gram[n:n_total, n:n_total]\n",
    "    mat_xy = mat_gram[0:n, n:n_total]\n",
    "    sum_xx = sum(sum(mat_xx))\n",
    "    sum_yy = sum(sum(mat_yy))\n",
    "    sum_xy = sum(sum(mat_xy))\n",
    "    if unbias:\n",
    "        sum_xx -= sum(np.diag(mat_xx))\n",
    "        sum_yy -= sum(np.diag(mat_yy))\n",
    "        sum_xy -= sum(np.diag(mat_xy))\n",
    "        return (sum_xx + sum_yy - 2 * sum_xy) / (n - 1)\n",
    "    else:\n",
    "        return (sum_xx + sum_yy - 2 * sum_xy) / n\n",
    "\n",
    "\n",
    "def hist_wchi(mat_gram, num_hist=int(1e+4)):\n",
    "    n = len(mat_gram)\n",
    "\n",
    "    # centered Gram matrix\n",
    "    mat_center = np.empty((n, n))\n",
    "    vec_gram = sum(mat_gram)\n",
    "    val_total = sum(vec_gram)\n",
    "    for i in range(n):\n",
    "        for j in range(i + 1):\n",
    "            mat_center[i, j] = (mat_gram[i, j]\n",
    "                                - ((vec_gram[i] + vec_gram[j]) / n)\n",
    "                                + (val_total / (n ** 2)))\n",
    "            mat_center[j, i] = mat_center[i, j]\n",
    "\n",
    "    # estimated eigenvalues\n",
    "    vec_nu = np.sort(np.linalg.eigh(mat_center)[0])[::-1][0: - 1]\n",
    "    vec_lambda = vec_nu / (n - 1)\n",
    "    sum_lambda = sum(vec_lambda)\n",
    "\n",
    "    # histogram of the null distribution (weighted chi square)\n",
    "    vec_hist = np.empty(num_hist)\n",
    "    for i in range(num_hist):\n",
    "        vec_z = np.random.normal(0, np.sqrt(2), n - 1) ** 2\n",
    "        vec_hist[i] = np.inner(vec_lambda, vec_z) - 2 * sum_lambda\n",
    "\n",
    "    return np.sort(vec_hist)[::-1]\n",
    "\n",
    "\n",
    "def extract_submat(mat_gram, num_m=None):\n",
    "    n_total = mat_gram.shape[0]\n",
    "    n = int(n_total / 2)\n",
    "    if num_m is None:\n",
    "        num_m = n - 1\n",
    "    d = int(2 * num_m)\n",
    "    mat = np.empty((d, d))\n",
    "    idx_x = random.sample(range(0, n), num_m)\n",
    "    idx_y = random.sample(range(n, n_total), num_m)\n",
    "    idx_xy = idx_x + idx_y\n",
    "    for i, a in enumerate(idx_xy):\n",
    "        for j, b in enumerate(idx_xy):\n",
    "            mat[i, j] = mat_gram[a, b]\n",
    "    return mat\n",
    "\n",
    "\n",
    "def two_sample_test(mat_gram, alpha=0.05, num_m=None, num_test=500):\n",
    "    vec_wchi = hist_wchi(mat_gram)                    # null distribution of psi-hat\n",
    "    vec_p_value = np.empty(num_test)\n",
    "    for temp_test in range(num_test):                 # for l=1,...,N\n",
    "        mat_reduced = extract_submat(mat_gram, num_m)  # resample m samples\n",
    "        value_mmd = n_mmd(mat_reduced)                 # compute mMMDu\n",
    "        vec_temp = np.where(vec_wchi > value_mmd)[0]   # how many psi-hat's are greater than mMMDu?\n",
    "        vec_p_value[temp_test] = len(vec_temp) / len(vec_wchi)\n",
    "    return vec_p_value, len(np.where(vec_p_value < alpha)[0]) / num_test\n"
   ]
  },
  {
   "cell_type": "code",
   "execution_count": null,
   "id": "c4023cc1-0e06-4430-ac27-4942fb35d970",
   "metadata": {},
   "outputs": [],
   "source": [
    "# import PD - json, each pds are saved as unnamed array\n",
    "with open(\"./pd_dim0.json\") as f:\n",
    "    pd0 = json.load(f)\n",
    "\n",
    "pd0list=[]\n",
    "for ii in range(len(pd0)):\n",
    "    pd0dat = np.array(pd0[ii])\n",
    "    pd0mat = np.transpose( np.resize(pd0dat, (2,int(len(pd0dat)/2)) ) )\n",
    "    pd0list.append(pd0mat)\n",
    "    \n",
    "with open(\"./pd_dim1.json\") as f:\n",
    "    pd1 = json.load(f)\n",
    "\n",
    "pd1list=[]\n",
    "for ii in range(len(pd1)):\n",
    "    pd1dat = np.array(pd1[ii])\n",
    "    pd1mat = np.transpose( np.resize(pd1dat, (2,int(len(pd1dat)/2)) ) )\n",
    "    pd1list.append(pd1mat)"
   ]
  },
  {
   "cell_type": "code",
   "execution_count": null,
   "id": "892139a8-566f-427b-b963-6b7ab4957418",
   "metadata": {},
   "outputs": [],
   "source": [
    "# settings for PWGK\n",
    "func_kernel = tda.function_kernel(\"Gaussian\", sigma=3 )\n",
    "func_weight = tda.function_weight(\"arctan\", arc_c=0.5, arc_p=0.5, lin_el=1)\n",
    "sigmak = 1"
   ]
  },
  {
   "cell_type": "markdown",
   "id": "c36b5d89-fc2a-4254-a68f-faa248524015",
   "metadata": {},
   "source": [
    "## Scenario 1"
   ]
  },
  {
   "cell_type": "code",
   "execution_count": null,
   "id": "787f1c40-3f6c-45e9-8973-38566a0ae07d",
   "metadata": {},
   "outputs": [],
   "source": [
    "# dimension 0\n",
    "# import dimension zero PDs\n",
    "combpdlist = pd0list[0:50]\n",
    "combpdlist.extend(pd0list[50:100])\n",
    "# compute gram matrix\n",
    "pwgk = PWGK(combpdlist, func_kernel, func_weight, sigma=sigmak, approx=True)\n",
    "mat_gaussian_pwgk = pwgk.gram_matrix()\n",
    "# define gram matrix\n",
    "name_rkhs = [\"Linear\", \"Gaussian\"][1]\n",
    "mat_gram_pwgk = tda.matrix_gram(mat_gaussian_pwgk, name_rkhs)[0]\n",
    "num_reject = two_sample_test(mat_gram_pwgk, alpha=0.05, num_m=50, num_test=1000)\n",
    "num_reject[1]"
   ]
  },
  {
   "cell_type": "code",
   "execution_count": null,
   "id": "f10e5c6b-18b1-4456-89bb-6a4236aa9d6c",
   "metadata": {},
   "outputs": [],
   "source": [
    "# dimension 1\n",
    "# import dimension one PDs\n",
    "combpdlist = pd1list[0:50]\n",
    "combpdlist.extend(pd1list[50:100])\n",
    "# compute gram matrix\n",
    "pwgk = PWGK(combpdlist, func_kernel, func_weight, sigma=sigmak, approx=True)\n",
    "mat_gaussian_pwgk = pwgk.gram_matrix()\n",
    "# define gram matrix\n",
    "name_rkhs = [\"Linear\", \"Gaussian\"][1]\n",
    "mat_gram_pwgk = tda.matrix_gram(mat_gaussian_pwgk, name_rkhs)[0]\n",
    "num_reject = two_sample_test(mat_gram_pwgk, alpha=0.05, num_m=50, num_test=1000)\n",
    "num_reject[1]"
   ]
  },
  {
   "cell_type": "markdown",
   "id": "7005d53e-32df-4d05-bb6e-37c28fc24881",
   "metadata": {},
   "source": [
    "## Scenario 2"
   ]
  },
  {
   "cell_type": "code",
   "execution_count": null,
   "id": "2b3b2c2d-8b21-46e9-8a76-bc93251ca91e",
   "metadata": {},
   "outputs": [],
   "source": [
    "# dimension 0\n",
    "# import dimension zero PDs\n",
    "combpdlist = pd0list[0:50]\n",
    "combpdlist.extend(pd0list[100:150])\n",
    "# compute gram matrix\n",
    "pwgk = PWGK(combpdlist, func_kernel, func_weight, sigma=sigmak, approx=True)\n",
    "mat_gaussian_pwgk = pwgk.gram_matrix()\n",
    "# define gram matrix\n",
    "name_rkhs = [\"Linear\", \"Gaussian\"][1]\n",
    "mat_gram_pwgk = tda.matrix_gram(mat_gaussian_pwgk, name_rkhs)[0]\n",
    "num_reject = two_sample_test(mat_gram_pwgk, alpha=0.05, num_m=50, num_test=1000)\n",
    "num_reject[1]"
   ]
  },
  {
   "cell_type": "code",
   "execution_count": null,
   "id": "1144aab1-43b6-49be-8229-44141366bb03",
   "metadata": {},
   "outputs": [],
   "source": [
    "# dimension 1\n",
    "# import dimension one PDs\n",
    "combpdlist = pd1list[0:50]\n",
    "combpdlist.extend(pd1list[100:150])\n",
    "# compute gram matrix\n",
    "pwgk = PWGK(combpdlist, func_kernel, func_weight, sigma=sigmak, approx=True)\n",
    "mat_gaussian_pwgk = pwgk.gram_matrix()\n",
    "# define gram matrix\n",
    "name_rkhs = [\"Linear\", \"Gaussian\"][1]\n",
    "mat_gram_pwgk = tda.matrix_gram(mat_gaussian_pwgk, name_rkhs)[0]\n",
    "num_reject = two_sample_test(mat_gram_pwgk, alpha=0.05, num_m=50, num_test=1000)\n",
    "num_reject[1]"
   ]
  },
  {
   "cell_type": "markdown",
   "id": "ca626203-8698-43d3-ba28-23b6bd2e1f99",
   "metadata": {},
   "source": [
    "## Scenario 3"
   ]
  },
  {
   "cell_type": "code",
   "execution_count": null,
   "id": "c459fcf7-fe69-408b-b901-c41edfe2661e",
   "metadata": {},
   "outputs": [],
   "source": [
    "# dimension 0\n",
    "# import dimension zero PDs\n",
    "combpdlist = pd0list[0:50]\n",
    "combpdlist.extend(pd0list[150:200])\n",
    "# compute gram matrix\n",
    "pwgk = PWGK(combpdlist, func_kernel, func_weight, sigma=sigmak, approx=True)\n",
    "mat_gaussian_pwgk = pwgk.gram_matrix()\n",
    "# define gram matrix\n",
    "name_rkhs = [\"Linear\", \"Gaussian\"][1]\n",
    "mat_gram_pwgk = tda.matrix_gram(mat_gaussian_pwgk, name_rkhs)[0]\n",
    "num_reject = two_sample_test(mat_gram_pwgk, alpha=0.05, num_m=50, num_test=1000)\n",
    "num_reject[1]"
   ]
  },
  {
   "cell_type": "code",
   "execution_count": null,
   "id": "d9110fd5-96aa-425b-8591-e5b5bdc341ea",
   "metadata": {},
   "outputs": [],
   "source": [
    "# dimension 1\n",
    "# import dimension one PDs\n",
    "combpdlist = pd1list[0:50]\n",
    "combpdlist.extend(pd1list[150:200])\n",
    "# compute gram matrix\n",
    "pwgk = PWGK(combpdlist, func_kernel, func_weight, sigma=sigmak, approx=True)\n",
    "mat_gaussian_pwgk = pwgk.gram_matrix()\n",
    "# define gram matrix\n",
    "name_rkhs = [\"Linear\", \"Gaussian\"][1]\n",
    "mat_gram_pwgk = tda.matrix_gram(mat_gaussian_pwgk, name_rkhs)[0]\n",
    "num_reject = two_sample_test(mat_gram_pwgk, alpha=0.05, num_m=50, num_test=1000)[1]\n",
    "num_reject"
   ]
  }
 ],
 "metadata": {
  "kernelspec": {
   "display_name": "Python 3 (ipykernel)",
   "language": "python",
   "name": "python3"
  },
  "language_info": {
   "codemirror_mode": {
    "name": "ipython",
    "version": 3
   },
   "file_extension": ".py",
   "mimetype": "text/x-python",
   "name": "python",
   "nbconvert_exporter": "python",
   "pygments_lexer": "ipython3",
   "version": "3.7.4"
  }
 },
 "nbformat": 4,
 "nbformat_minor": 5
}
