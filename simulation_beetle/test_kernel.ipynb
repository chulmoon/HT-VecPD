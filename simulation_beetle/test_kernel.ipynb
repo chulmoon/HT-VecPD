{
 "cells": [
  {
   "cell_type": "code",
   "execution_count": 1,
   "id": "48fc8024-d119-451e-b706-f0be975d28ca",
   "metadata": {},
   "outputs": [],
   "source": [
    "from tda import PD, PWGK, PL, PSSK\n",
    "\n",
    "import tda\n",
    "import numpy as np\n",
    "import os\n",
    "import random\n",
    "import json\n",
    "import math\n",
    "\n",
    "from itertools import combinations"
   ]
  },
  {
   "cell_type": "code",
   "execution_count": 2,
   "id": "bd48bc3a-dde2-4369-b7bd-6980e261ede8",
   "metadata": {},
   "outputs": [],
   "source": [
    "# compute MMDu\n",
    "def n_mmd(mat_gram, unbias=True):\n",
    "    n_total = mat_gram.shape[0]\n",
    "    n = int(n_total / 2)\n",
    "    mat_xx = mat_gram[0:n, 0:n]\n",
    "    mat_yy = mat_gram[n:n_total, n:n_total]\n",
    "    mat_xy = mat_gram[0:n, n:n_total]\n",
    "    sum_xx = sum(sum(mat_xx))\n",
    "    sum_yy = sum(sum(mat_yy))\n",
    "    sum_xy = sum(sum(mat_xy))\n",
    "    if unbias:\n",
    "        sum_xx -= sum(np.diag(mat_xx))\n",
    "        sum_yy -= sum(np.diag(mat_yy))\n",
    "        sum_xy -= sum(np.diag(mat_xy))\n",
    "        return (sum_xx + sum_yy - 2 * sum_xy) / (n - 1)\n",
    "    else:\n",
    "        return (sum_xx + sum_yy - 2 * sum_xy) / n\n",
    "\n",
    "\n",
    "def hist_wchi(mat_gram, num_hist=int(1e+4)):\n",
    "    n = len(mat_gram)\n",
    "\n",
    "    # centered Gram matrix\n",
    "    mat_center = np.empty((n, n))\n",
    "    vec_gram = sum(mat_gram)\n",
    "    val_total = sum(vec_gram)\n",
    "    for i in range(n):\n",
    "        for j in range(i + 1):\n",
    "            mat_center[i, j] = (mat_gram[i, j]\n",
    "                                - ((vec_gram[i] + vec_gram[j]) / n)\n",
    "                                + (val_total / (n ** 2)))\n",
    "            mat_center[j, i] = mat_center[i, j]\n",
    "\n",
    "    # estimated eigenvalues\n",
    "    vec_nu = np.sort(np.linalg.eigh(mat_center)[0])[::-1][0: - 1]\n",
    "    vec_lambda = vec_nu / (n - 1)\n",
    "    sum_lambda = sum(vec_lambda)\n",
    "\n",
    "    # histogram of the null distribution (weighted chi square)\n",
    "    vec_hist = np.empty(num_hist)\n",
    "    for i in range(num_hist):\n",
    "        vec_z = np.random.normal(0, np.sqrt(2), n - 1) ** 2\n",
    "        vec_hist[i] = np.inner(vec_lambda, vec_z) - 2 * sum_lambda\n",
    "\n",
    "    return np.sort(vec_hist)[::-1]\n",
    "\n",
    "\n",
    "def extract_submat(mat_gram, num_m=None):\n",
    "    n_total = mat_gram.shape[0]\n",
    "    n = int(n_total / 2)\n",
    "    if num_m is None:\n",
    "        num_m = n - 1\n",
    "    d = int(2 * num_m)\n",
    "    mat = np.empty((d, d))\n",
    "    idx_x = random.sample(range(0, n), num_m)\n",
    "    idx_y = random.sample(range(n, n_total), num_m)\n",
    "    idx_xy = idx_x + idx_y\n",
    "    for i, a in enumerate(idx_xy):\n",
    "        for j, b in enumerate(idx_xy):\n",
    "            mat[i, j] = mat_gram[a, b]\n",
    "    return mat\n",
    "\n",
    "\n",
    "def two_sample_test(mat_gram, alpha=0.05, num_m=None, num_test=500):\n",
    "    vec_wchi = hist_wchi(mat_gram)                    # null distribution of psi-hat\n",
    "    vec_p_value = np.empty(num_test)\n",
    "    for temp_test in range(num_test):                 # for l=1,...,N\n",
    "        mat_reduced = extract_submat(mat_gram, num_m)  # resample m samples\n",
    "        value_mmd = n_mmd(mat_reduced)                 # compute mMMDu\n",
    "        vec_temp = np.where(vec_wchi > value_mmd)[0]   # how many psi-hat's are greater than mMMDu?\n",
    "        vec_p_value[temp_test] = len(vec_temp) / len(vec_wchi)\n",
    "    return vec_p_value, len(np.where(vec_p_value < alpha)[0]) / num_test\n"
   ]
  },
  {
   "cell_type": "code",
   "execution_count": 3,
   "id": "65e5646a-9258-47a8-9bb7-00f486aa0cd3",
   "metadata": {},
   "outputs": [],
   "source": [
    "# import PD - json, each pds are saved as unnamed array\n",
    "\n",
    "with open(\"/users/chulm/hypotest/sim_rev/beetlepd.json\") as f:\n",
    "    pd = json.load(f)"
   ]
  },
  {
   "cell_type": "code",
   "execution_count": 4,
   "id": "f183609e-ed20-47a1-a453-105f1c38c498",
   "metadata": {},
   "outputs": [
    {
     "data": {
      "text/plain": [
       "array([[19.6396, 40.5827],\n",
       "       [20.458 , 27.1967],\n",
       "       [22.3653, 27.6706],\n",
       "       [29.5865, 34.2615],\n",
       "       [14.1339, 18.1496],\n",
       "       [ 9.5918, 12.7848],\n",
       "       [23.3545, 25.4296],\n",
       "       [14.7989, 16.3304],\n",
       "       [13.6672, 15.0779],\n",
       "       [ 5.3358,  6.6726],\n",
       "       [ 8.2898,  9.4404],\n",
       "       [10.8704, 11.9515],\n",
       "       [17.067 , 17.7264],\n",
       "       [ 7.9129,  8.5603],\n",
       "       [17.9538, 18.3539],\n",
       "       [ 3.2959,  3.5893],\n",
       "       [19.0892, 19.278 ],\n",
       "       [12.4488, 12.5745],\n",
       "       [ 4.9354,  5.0584],\n",
       "       [15.9173, 16.0238],\n",
       "       [ 6.4543,  6.4836]])"
      ]
     },
     "execution_count": 4,
     "metadata": {},
     "output_type": "execute_result"
    }
   ],
   "source": [
    "pd1dat = np.array(pd[0])\n",
    "pd1mat = np.transpose( np.resize(pd1dat, (3,int(len(pd1dat)/3)) ) )\n",
    "pd1mat1 = pd1mat[pd1mat[:,0]==1,1:]\n",
    "pd1mat1"
   ]
  },
  {
   "cell_type": "code",
   "execution_count": 5,
   "id": "58565664-202f-4f28-9ed8-29d9c7d44831",
   "metadata": {},
   "outputs": [],
   "source": [
    "pd1list=[]\n",
    "for ii in range(len(pd)):\n",
    "    pd1dat = np.array(pd[ii])\n",
    "    pd1mat = np.transpose( np.resize(pd1dat, (3,int(len(pd1dat)/3)) ) )\n",
    "    pd1mat1 = pd1mat[pd1mat[:,0]==1,1:]\n",
    "    pd1mat1fin = pd1mat1.astype(np.float)\n",
    "    pd1list.append(pd1mat1fin)"
   ]
  },
  {
   "cell_type": "code",
   "execution_count": 6,
   "id": "892139a8-566f-427b-b963-6b7ab4957418",
   "metadata": {},
   "outputs": [],
   "source": [
    "# functions for PWGK\n",
    "func_kernel = tda.function_kernel(\"Gaussian\", sigma=3 )\n",
    "#func_weight = tda.function_weight(\"arctan\", arc_c=0.5, arc_p=0.5, lin_el=1)\n",
    "func_weight = tda.function_weight(\"none\")"
   ]
  },
  {
   "cell_type": "code",
   "execution_count": 63,
   "id": "1f8b7bf5-84a9-4138-8171-e83743ec7bb7",
   "metadata": {},
   "outputs": [
    {
     "data": {
      "text/plain": [
       "4020"
      ]
     },
     "execution_count": 63,
     "metadata": {},
     "output_type": "execute_result"
    }
   ],
   "source": [
    "nrep=100\n",
    "nset=20\n",
    "ntotalset=4000\n",
    "rr=0\n",
    "(rr+1)*nset+ntotalset"
   ]
  },
  {
   "cell_type": "code",
   "execution_count": 7,
   "id": "6bd32347-b845-4677-b052-48cfdf287ddd",
   "metadata": {},
   "outputs": [
    {
     "data": {
      "text/plain": [
       "8000"
      ]
     },
     "execution_count": 7,
     "metadata": {},
     "output_type": "execute_result"
    }
   ],
   "source": [
    "len(pd1list)"
   ]
  },
  {
   "cell_type": "code",
   "execution_count": 8,
   "id": "1d8ea73a-e170-4992-9ce3-c233b226a037",
   "metadata": {},
   "outputs": [
    {
     "data": {
      "text/plain": [
       "array([[ 9.2182, 14.4925],\n",
       "       [11.6715, 14.5005],\n",
       "       [ 5.1413,  7.9637],\n",
       "       [17.5636, 20.3002],\n",
       "       [ 6.5295,  9.0986],\n",
       "       [ 5.317 ,  7.0545],\n",
       "       [ 9.6348, 11.1544],\n",
       "       [ 3.5198,  4.8807],\n",
       "       [ 7.3698,  8.5967],\n",
       "       [ 8.5008,  9.7071],\n",
       "       [ 5.473 ,  6.6594],\n",
       "       [ 5.129 ,  6.3065],\n",
       "       [ 5.6332,  6.5844],\n",
       "       [ 4.7933,  5.678 ],\n",
       "       [ 5.274 ,  6.1332],\n",
       "       [ 5.8132,  6.4948],\n",
       "       [11.8653, 12.4861],\n",
       "       [ 4.28  ,  4.8927],\n",
       "       [ 3.5702,  4.1253],\n",
       "       [16.2526, 16.7369],\n",
       "       [ 5.6093,  5.8888],\n",
       "       [13.7806, 14.035 ],\n",
       "       [ 4.641 ,  4.8237],\n",
       "       [ 5.4242,  5.5897],\n",
       "       [20.0394, 20.1671],\n",
       "       [ 4.3622,  4.4784],\n",
       "       [ 5.6151,  5.6849]])"
      ]
     },
     "execution_count": 8,
     "metadata": {},
     "output_type": "execute_result"
    }
   ],
   "source": [
    "pd1list[4001]"
   ]
  },
  {
   "cell_type": "markdown",
   "id": "a2d92f7f-6200-4edd-8e1b-70fbb1badd26",
   "metadata": {},
   "source": [
    "# between two"
   ]
  },
  {
   "cell_type": "code",
   "execution_count": 13,
   "id": "787f1c40-3f6c-45e9-8973-38566a0ae07d",
   "metadata": {},
   "outputs": [
    {
     "data": {
      "text/plain": [
       "1.0"
      ]
     },
     "execution_count": 13,
     "metadata": {},
     "output_type": "execute_result"
    }
   ],
   "source": [
    "nrep=100\n",
    "nset=20\n",
    "ntotalset=4000\n",
    "per=np.zeros(nrep)\n",
    "for rr in range(nrep):\n",
    "    # import dimension one PDs\n",
    "    combpdlist = pd1list[rr*nset:(rr+1)*nset]\n",
    "    combpdlist.extend(pd1list[(rr*nset+ntotalset):((rr+1)*nset+ntotalset)])\n",
    "    # compute gram matrix\n",
    "    pwgk = PWGK(combpdlist, func_kernel, func_weight, sigma=3,approx=True)\n",
    "    mat_gaussian_pwgk = pwgk.gram_matrix()\n",
    "    # define gram matrix\n",
    "    name_rkhs = [\"Linear\", \"Gaussian\"][1]\n",
    "    mat_gram_pwgk = tda.matrix_gram(mat_gaussian_pwgk, name_rkhs)[0]\n",
    "    num_reject = two_sample_test(mat_gram_pwgk, alpha=0.05, num_m=20, num_test=500)[1]\n",
    "    per[rr] = num_reject\n",
    "1-np.sum(per<0.05)/nrep # linear"
   ]
  },
  {
   "cell_type": "markdown",
   "id": "a2e10b0c-c880-4f59-b977-68e9bf71c763",
   "metadata": {},
   "source": [
    "# between stable"
   ]
  },
  {
   "cell_type": "code",
   "execution_count": 10,
   "id": "6117ad0d-e8d0-4621-bd1d-cc8fbb92a9b2",
   "metadata": {},
   "outputs": [
    {
     "data": {
      "text/plain": [
       "0.0"
      ]
     },
     "execution_count": 10,
     "metadata": {},
     "output_type": "execute_result"
    }
   ],
   "source": [
    "nrep=100\n",
    "nset=20\n",
    "ntotalset=2000\n",
    "per=np.zeros(nrep)\n",
    "for rr in range(nrep):\n",
    "    # import dimension one PDs\n",
    "    combpdlist = pd1list[rr*nset:(rr+1)*nset]\n",
    "    combpdlist.extend(pd1list[(rr*nset+ntotalset):((rr+1)*nset+ntotalset)])\n",
    "    # compute gram matrix\n",
    "    pwgk = PWGK(combpdlist, func_kernel, func_weight, sigma=3,approx=True)\n",
    "    mat_gaussian_pwgk = pwgk.gram_matrix()\n",
    "    # define gram matrix\n",
    "    name_rkhs = [\"Linear\", \"Gaussian\"][1]\n",
    "    mat_gram_pwgk = tda.matrix_gram(mat_gaussian_pwgk, name_rkhs)[0]\n",
    "    per[rr] = num_reject\n",
    "1-np.sum(per<0.05)/nrep # linear"
   ]
  },
  {
   "cell_type": "code",
   "execution_count": 52,
   "id": "38f27d03-d3c0-4caa-92a6-3cb8471ca75f",
   "metadata": {},
   "outputs": [
    {
     "data": {
      "text/plain": [
       "array([0., 0., 0., 0., 0., 0., 0., 0., 0., 0., 0., 0., 0., 0., 0., 0., 0.,\n",
       "       0., 0., 0., 0., 0., 0., 0., 0., 0., 0., 0., 0., 0., 0., 0., 0., 0.,\n",
       "       0., 0., 0., 0., 0., 0., 0., 0., 0., 0., 0., 0., 0., 0., 0., 0., 0.,\n",
       "       0., 0., 0., 0., 0., 0., 0., 0., 0., 0., 0., 0., 0., 0., 0., 0., 0.,\n",
       "       0., 0., 0., 0., 0., 0., 0., 0., 0., 0., 0., 0., 0., 0., 0., 0., 0.,\n",
       "       0., 0., 0., 0., 0., 0., 0., 0., 0., 0., 0., 0., 0., 0., 0.])"
      ]
     },
     "execution_count": 52,
     "metadata": {},
     "output_type": "execute_result"
    }
   ],
   "source": [
    "per"
   ]
  },
  {
   "cell_type": "markdown",
   "id": "6c16329d-74a2-4bb2-9acc-9939cbaa58d6",
   "metadata": {},
   "source": [
    "# between aperiodic"
   ]
  },
  {
   "cell_type": "code",
   "execution_count": 11,
   "id": "15f1314a-c47d-4f84-91f3-f311b153a041",
   "metadata": {},
   "outputs": [
    {
     "data": {
      "text/plain": [
       "array([0.   , 0.   , 0.   , 0.   , 0.   , 0.   , 0.   , 0.   , 0.   ,\n",
       "       0.   , 0.   , 0.   , 0.   , 0.   , 0.   , 0.   , 0.   , 0.   ,\n",
       "       0.   , 0.   , 0.   , 0.   , 0.   , 0.   , 0.   , 0.   , 0.   ,\n",
       "       0.   , 0.   , 0.   , 0.   , 0.   , 0.   , 0.   , 0.   , 0.   ,\n",
       "       0.   , 0.   , 0.   , 0.   , 0.   , 0.028, 1.   , 0.   , 0.   ,\n",
       "       0.   , 0.   , 0.476, 0.   , 0.   , 0.   , 0.   , 0.   , 0.   ,\n",
       "       0.   , 0.   , 0.   , 0.   , 0.   , 0.   , 0.   , 0.   , 0.   ,\n",
       "       0.   , 0.   , 0.   , 0.   , 0.   , 0.   , 0.   , 0.   , 0.   ,\n",
       "       0.   , 0.   , 0.   , 0.   , 0.   , 0.   , 0.   , 0.   , 0.   ,\n",
       "       0.   , 0.   , 0.   , 0.   , 0.   , 0.   , 0.   , 0.   , 0.   ,\n",
       "       0.   , 0.   , 0.   , 0.   , 0.   , 0.   , 0.   , 0.   , 0.004,\n",
       "       0.   ])"
      ]
     },
     "execution_count": 11,
     "metadata": {},
     "output_type": "execute_result"
    }
   ],
   "source": [
    "nrep=100\n",
    "nset=20\n",
    "ntotalset=2000\n",
    "per=np.zeros(nrep)\n",
    "for rr in range(nrep):\n",
    "    # import dimension one PDs\n",
    "    combpdlist = pd1list[(rr*nset+4000):((rr+1)*nset+4000)]\n",
    "    combpdlist.extend(pd1list[(rr*nset+ntotalset+4000):((rr+1)*nset+ntotalset+4000)])\n",
    "    # compute gram matrix\n",
    "    pwgk = PWGK(combpdlist, func_kernel, func_weight, sigma=3,approx=True)\n",
    "    mat_gaussian_pwgk = pwgk.gram_matrix()\n",
    "    # define gram matrix\n",
    "    name_rkhs = [\"Linear\", \"Gaussian\"][1]\n",
    "    mat_gram_pwgk = tda.matrix_gram(mat_gaussian_pwgk, name_rkhs)[0]\n",
    "    num_reject = two_sample_test(mat_gram_pwgk, alpha=0.05, num_m=20, num_test=500)[1]\n",
    "    per[rr] = num_reject\n",
    "1-np.sum(per<0.05)/nrep # linear\n",
    "per"
   ]
  },
  {
   "cell_type": "code",
   "execution_count": 12,
   "id": "9500704b-1ce3-4aec-a797-337cfdf8df55",
   "metadata": {},
   "outputs": [
    {
     "data": {
      "text/plain": [
       "0.020000000000000018"
      ]
     },
     "execution_count": 12,
     "metadata": {},
     "output_type": "execute_result"
    }
   ],
   "source": [
    "1-np.sum(per<0.05)/nrep # linear"
   ]
  },
  {
   "cell_type": "code",
   "execution_count": 40,
   "id": "20b76a9e-3f53-47dc-9771-ac09f9a0f08b",
   "metadata": {},
   "outputs": [],
   "source": [
    "rr=0\n",
    "combpdlist = pd1list[(rr*nset+4000):((rr+1)*nset+4000)]\n",
    "combpdlist.extend(pd1list[(rr*nset+ntotalset+4000):((rr+1)*nset+ntotalset+4000)])\n",
    "bd=combpdlist[0][0]"
   ]
  },
  {
   "cell_type": "code",
   "execution_count": 41,
   "id": "f0606815-ee2c-4678-bbc3-2fd328e1b4ac",
   "metadata": {},
   "outputs": [
    {
     "data": {
      "text/plain": [
       "0.3111162227139398"
      ]
     },
     "execution_count": 41,
     "metadata": {},
     "output_type": "execute_result"
    }
   ],
   "source": [
    "np.maximum( np.arctan(math.pow((bd[1] - bd[0]) / 0.5, 0.5)), 0.0)"
   ]
  },
  {
   "cell_type": "markdown",
   "id": "44597b76-bd59-4994-80d6-d94a01ec0f35",
   "metadata": {},
   "source": [
    "# LV60"
   ]
  },
  {
   "cell_type": "code",
   "execution_count": 31,
   "id": "f10e5c6b-18b1-4456-89bb-6a4236aa9d6c",
   "metadata": {},
   "outputs": [
    {
     "data": {
      "text/plain": [
       "1.0"
      ]
     },
     "execution_count": 31,
     "metadata": {},
     "output_type": "execute_result"
    }
   ],
   "source": [
    "# import dim 0 PDs\n",
    "combpdlist = pd0list[3*27:4*27]\n",
    "combpdlist.extend(pd0list[4*27:5*27])\n",
    "# compute gram matrix\n",
    "pwgk = PWGK(combpdlist, func_kernel, func_weight, sigma=1.5, approx=True)\n",
    "mat_gaussian_pwgk = pwgk.gram_matrix()\n",
    "# define gram matrix\n",
    "name_rkhs = [\"Linear\", \"Gaussian\"][1]\n",
    "mat_gram_pwgk = tda.matrix_gram(mat_gaussian_pwgk, name_rkhs)[0]\n",
    "num_reject = two_sample_test(mat_gram_pwgk, alpha=0.05, num_m=27, num_test=1000)\n",
    "num_reject[1]"
   ]
  },
  {
   "cell_type": "code",
   "execution_count": 32,
   "id": "2b3b2c2d-8b21-46e9-8a76-bc93251ca91e",
   "metadata": {},
   "outputs": [
    {
     "data": {
      "text/plain": [
       "1.0"
      ]
     },
     "execution_count": 32,
     "metadata": {},
     "output_type": "execute_result"
    }
   ],
   "source": [
    "# import dim 1 PDs\n",
    "combpdlist = pd1list[3*27:4*27]\n",
    "combpdlist.extend(pd1list[4*27:5*27])\n",
    "# compute gram matrix\n",
    "pwgk = PWGK(combpdlist, func_kernel, func_weight, sigma=1.5, approx=True)\n",
    "mat_gaussian_pwgk = pwgk.gram_matrix()\n",
    "# define gram matrix\n",
    "name_rkhs = [\"Linear\", \"Gaussian\"][1]\n",
    "mat_gram_pwgk = tda.matrix_gram(mat_gaussian_pwgk, name_rkhs)[0]\n",
    "num_reject = two_sample_test(mat_gram_pwgk, alpha=0.05, num_m=27, num_test=1000)\n",
    "num_reject[1]"
   ]
  },
  {
   "cell_type": "code",
   "execution_count": 33,
   "id": "1144aab1-43b6-49be-8229-44141366bb03",
   "metadata": {},
   "outputs": [
    {
     "data": {
      "text/plain": [
       "1.0"
      ]
     },
     "execution_count": 33,
     "metadata": {},
     "output_type": "execute_result"
    }
   ],
   "source": [
    "# import dim 2 PDs\n",
    "combpdlist = pd2list[3*27:4*27]\n",
    "combpdlist.extend(pd2list[4*27:5*27])\n",
    "# compute gram matrix\n",
    "pwgk = PWGK(combpdlist, func_kernel, func_weight, sigma=1.5, approx=True)\n",
    "mat_gaussian_pwgk = pwgk.gram_matrix()\n",
    "# define gram matrix\n",
    "name_rkhs = [\"Linear\", \"Gaussian\"][1]\n",
    "mat_gram_pwgk = tda.matrix_gram(mat_gaussian_pwgk, name_rkhs)[0]\n",
    "num_reject = two_sample_test(mat_gram_pwgk, alpha=0.05, num_m=27, num_test=1000)\n",
    "num_reject[1]"
   ]
  },
  {
   "cell_type": "markdown",
   "id": "444182af-867d-4b09-9fe9-08968ca694f0",
   "metadata": {},
   "source": [
    "# F42 vs LV60"
   ]
  },
  {
   "cell_type": "code",
   "execution_count": 34,
   "id": "c459fcf7-fe69-408b-b901-c41edfe2661e",
   "metadata": {},
   "outputs": [
    {
     "data": {
      "text/plain": [
       "1.0"
      ]
     },
     "execution_count": 34,
     "metadata": {},
     "output_type": "execute_result"
    }
   ],
   "source": [
    "# import dim 0 PDs\n",
    "combpdlist = pd0list[1*27:2*27]\n",
    "combpdlist.extend(pd0list[3*27:4*27])\n",
    "# compute gram matrix\n",
    "pwgk = PWGK(combpdlist, func_kernel, func_weight, sigma=1.5, approx=True)\n",
    "mat_gaussian_pwgk = pwgk.gram_matrix()\n",
    "# define gram matrix\n",
    "name_rkhs = [\"Linear\", \"Gaussian\"][1]\n",
    "mat_gram_pwgk = tda.matrix_gram(mat_gaussian_pwgk, name_rkhs)[0]\n",
    "num_reject = two_sample_test(mat_gram_pwgk, alpha=0.05, num_m=27, num_test=1000)\n",
    "num_reject[1]"
   ]
  },
  {
   "cell_type": "code",
   "execution_count": 35,
   "id": "d9110fd5-96aa-425b-8591-e5b5bdc341ea",
   "metadata": {},
   "outputs": [
    {
     "data": {
      "text/plain": [
       "1.0"
      ]
     },
     "execution_count": 35,
     "metadata": {},
     "output_type": "execute_result"
    }
   ],
   "source": [
    "# import dim 1 PDs\n",
    "combpdlist = pd1list[1*27:2*27]\n",
    "combpdlist.extend(pd1list[3*27:4*27])\n",
    "# compute gram matrix\n",
    "pwgk = PWGK(combpdlist, func_kernel, func_weight, sigma=1.5, approx=True)\n",
    "mat_gaussian_pwgk = pwgk.gram_matrix()\n",
    "# define gram matrix\n",
    "name_rkhs = [\"Linear\", \"Gaussian\"][1]\n",
    "mat_gram_pwgk = tda.matrix_gram(mat_gaussian_pwgk, name_rkhs)[0]\n",
    "num_reject = two_sample_test(mat_gram_pwgk, alpha=0.05, num_m=27, num_test=1000)\n",
    "num_reject[1]"
   ]
  },
  {
   "cell_type": "code",
   "execution_count": 36,
   "id": "f7eea54e-2912-483b-abd4-f2dc9b31b5e0",
   "metadata": {},
   "outputs": [
    {
     "data": {
      "text/plain": [
       "1.0"
      ]
     },
     "execution_count": 36,
     "metadata": {},
     "output_type": "execute_result"
    }
   ],
   "source": [
    "# import dim 2 PDs\n",
    "combpdlist = pd2list[1*27:2*27]\n",
    "combpdlist.extend(pd2list[3*27:4*27])\n",
    "# compute gram matrix\n",
    "pwgk = PWGK(combpdlist, func_kernel, func_weight, sigma=1.5, approx=True)\n",
    "mat_gaussian_pwgk = pwgk.gram_matrix()\n",
    "# define gram matrix\n",
    "name_rkhs = [\"Linear\", \"Gaussian\"][1]\n",
    "mat_gram_pwgk = tda.matrix_gram(mat_gaussian_pwgk, name_rkhs)[0]\n",
    "num_reject = two_sample_test(mat_gram_pwgk, alpha=0.05, num_m=27, num_test=1000)\n",
    "num_reject[1]"
   ]
  },
  {
   "cell_type": "code",
   "execution_count": 38,
   "id": "a560f39a-d520-41a1-b66d-16175e8077e9",
   "metadata": {},
   "outputs": [
    {
     "data": {
      "text/plain": [
       "0.0"
      ]
     },
     "execution_count": 38,
     "metadata": {},
     "output_type": "execute_result"
    }
   ],
   "source": [
    "nr=num_reject[0]"
   ]
  },
  {
   "cell_type": "code",
   "execution_count": 39,
   "id": "c2bd92b0-e5db-48b9-bc05-57c7796a5240",
   "metadata": {},
   "outputs": [
    {
     "data": {
      "text/plain": [
       "array([0., 0., 0., 0., 0., 0., 0., 0., 0., 0., 0., 0., 0., 0., 0., 0., 0.,\n",
       "       0., 0., 0., 0., 0., 0., 0., 0., 0., 0., 0., 0., 0., 0., 0., 0., 0.,\n",
       "       0., 0., 0., 0., 0., 0., 0., 0., 0., 0., 0., 0., 0., 0., 0., 0., 0.,\n",
       "       0., 0., 0., 0., 0., 0., 0., 0., 0., 0., 0., 0., 0., 0., 0., 0., 0.,\n",
       "       0., 0., 0., 0., 0., 0., 0., 0., 0., 0., 0., 0., 0., 0., 0., 0., 0.,\n",
       "       0., 0., 0., 0., 0., 0., 0., 0., 0., 0., 0., 0., 0., 0., 0., 0., 0.,\n",
       "       0., 0., 0., 0., 0., 0., 0., 0., 0., 0., 0., 0., 0., 0., 0., 0., 0.,\n",
       "       0., 0., 0., 0., 0., 0., 0., 0., 0., 0., 0., 0., 0., 0., 0., 0., 0.,\n",
       "       0., 0., 0., 0., 0., 0., 0., 0., 0., 0., 0., 0., 0., 0., 0., 0., 0.,\n",
       "       0., 0., 0., 0., 0., 0., 0., 0., 0., 0., 0., 0., 0., 0., 0., 0., 0.,\n",
       "       0., 0., 0., 0., 0., 0., 0., 0., 0., 0., 0., 0., 0., 0., 0., 0., 0.,\n",
       "       0., 0., 0., 0., 0., 0., 0., 0., 0., 0., 0., 0., 0., 0., 0., 0., 0.,\n",
       "       0., 0., 0., 0., 0., 0., 0., 0., 0., 0., 0., 0., 0., 0., 0., 0., 0.,\n",
       "       0., 0., 0., 0., 0., 0., 0., 0., 0., 0., 0., 0., 0., 0., 0., 0., 0.,\n",
       "       0., 0., 0., 0., 0., 0., 0., 0., 0., 0., 0., 0., 0., 0., 0., 0., 0.,\n",
       "       0., 0., 0., 0., 0., 0., 0., 0., 0., 0., 0., 0., 0., 0., 0., 0., 0.,\n",
       "       0., 0., 0., 0., 0., 0., 0., 0., 0., 0., 0., 0., 0., 0., 0., 0., 0.,\n",
       "       0., 0., 0., 0., 0., 0., 0., 0., 0., 0., 0., 0., 0., 0., 0., 0., 0.,\n",
       "       0., 0., 0., 0., 0., 0., 0., 0., 0., 0., 0., 0., 0., 0., 0., 0., 0.,\n",
       "       0., 0., 0., 0., 0., 0., 0., 0., 0., 0., 0., 0., 0., 0., 0., 0., 0.,\n",
       "       0., 0., 0., 0., 0., 0., 0., 0., 0., 0., 0., 0., 0., 0., 0., 0., 0.,\n",
       "       0., 0., 0., 0., 0., 0., 0., 0., 0., 0., 0., 0., 0., 0., 0., 0., 0.,\n",
       "       0., 0., 0., 0., 0., 0., 0., 0., 0., 0., 0., 0., 0., 0., 0., 0., 0.,\n",
       "       0., 0., 0., 0., 0., 0., 0., 0., 0., 0., 0., 0., 0., 0., 0., 0., 0.,\n",
       "       0., 0., 0., 0., 0., 0., 0., 0., 0., 0., 0., 0., 0., 0., 0., 0., 0.,\n",
       "       0., 0., 0., 0., 0., 0., 0., 0., 0., 0., 0., 0., 0., 0., 0., 0., 0.,\n",
       "       0., 0., 0., 0., 0., 0., 0., 0., 0., 0., 0., 0., 0., 0., 0., 0., 0.,\n",
       "       0., 0., 0., 0., 0., 0., 0., 0., 0., 0., 0., 0., 0., 0., 0., 0., 0.,\n",
       "       0., 0., 0., 0., 0., 0., 0., 0., 0., 0., 0., 0., 0., 0., 0., 0., 0.,\n",
       "       0., 0., 0., 0., 0., 0., 0., 0., 0., 0., 0., 0., 0., 0., 0., 0., 0.,\n",
       "       0., 0., 0., 0., 0., 0., 0., 0., 0., 0., 0., 0., 0., 0., 0., 0., 0.,\n",
       "       0., 0., 0., 0., 0., 0., 0., 0., 0., 0., 0., 0., 0., 0., 0., 0., 0.,\n",
       "       0., 0., 0., 0., 0., 0., 0., 0., 0., 0., 0., 0., 0., 0., 0., 0., 0.,\n",
       "       0., 0., 0., 0., 0., 0., 0., 0., 0., 0., 0., 0., 0., 0., 0., 0., 0.,\n",
       "       0., 0., 0., 0., 0., 0., 0., 0., 0., 0., 0., 0., 0., 0., 0., 0., 0.,\n",
       "       0., 0., 0., 0., 0., 0., 0., 0., 0., 0., 0., 0., 0., 0., 0., 0., 0.,\n",
       "       0., 0., 0., 0., 0., 0., 0., 0., 0., 0., 0., 0., 0., 0., 0., 0., 0.,\n",
       "       0., 0., 0., 0., 0., 0., 0., 0., 0., 0., 0., 0., 0., 0., 0., 0., 0.,\n",
       "       0., 0., 0., 0., 0., 0., 0., 0., 0., 0., 0., 0., 0., 0., 0., 0., 0.,\n",
       "       0., 0., 0., 0., 0., 0., 0., 0., 0., 0., 0., 0., 0., 0., 0., 0., 0.,\n",
       "       0., 0., 0., 0., 0., 0., 0., 0., 0., 0., 0., 0., 0., 0., 0., 0., 0.,\n",
       "       0., 0., 0., 0., 0., 0., 0., 0., 0., 0., 0., 0., 0., 0., 0., 0., 0.,\n",
       "       0., 0., 0., 0., 0., 0., 0., 0., 0., 0., 0., 0., 0., 0., 0., 0., 0.,\n",
       "       0., 0., 0., 0., 0., 0., 0., 0., 0., 0., 0., 0., 0., 0., 0., 0., 0.,\n",
       "       0., 0., 0., 0., 0., 0., 0., 0., 0., 0., 0., 0., 0., 0., 0., 0., 0.,\n",
       "       0., 0., 0., 0., 0., 0., 0., 0., 0., 0., 0., 0., 0., 0., 0., 0., 0.,\n",
       "       0., 0., 0., 0., 0., 0., 0., 0., 0., 0., 0., 0., 0., 0., 0., 0., 0.,\n",
       "       0., 0., 0., 0., 0., 0., 0., 0., 0., 0., 0., 0., 0., 0., 0., 0., 0.,\n",
       "       0., 0., 0., 0., 0., 0., 0., 0., 0., 0., 0., 0., 0., 0., 0., 0., 0.,\n",
       "       0., 0., 0., 0., 0., 0., 0., 0., 0., 0., 0., 0., 0., 0., 0., 0., 0.,\n",
       "       0., 0., 0., 0., 0., 0., 0., 0., 0., 0., 0., 0., 0., 0., 0., 0., 0.,\n",
       "       0., 0., 0., 0., 0., 0., 0., 0., 0., 0., 0., 0., 0., 0., 0., 0., 0.,\n",
       "       0., 0., 0., 0., 0., 0., 0., 0., 0., 0., 0., 0., 0., 0., 0., 0., 0.,\n",
       "       0., 0., 0., 0., 0., 0., 0., 0., 0., 0., 0., 0., 0., 0., 0., 0., 0.,\n",
       "       0., 0., 0., 0., 0., 0., 0., 0., 0., 0., 0., 0., 0., 0., 0., 0., 0.,\n",
       "       0., 0., 0., 0., 0., 0., 0., 0., 0., 0., 0., 0., 0., 0., 0., 0., 0.,\n",
       "       0., 0., 0., 0., 0., 0., 0., 0., 0., 0., 0., 0., 0., 0., 0., 0., 0.,\n",
       "       0., 0., 0., 0., 0., 0., 0., 0., 0., 0., 0., 0., 0., 0., 0., 0., 0.,\n",
       "       0., 0., 0., 0., 0., 0., 0., 0., 0., 0., 0., 0., 0., 0.])"
      ]
     },
     "execution_count": 39,
     "metadata": {},
     "output_type": "execute_result"
    }
   ],
   "source": [
    "nr"
   ]
  },
  {
   "cell_type": "code",
   "execution_count": null,
   "id": "114be04d-796f-4abe-aee1-27259e2ea652",
   "metadata": {},
   "outputs": [],
   "source": []
  }
 ],
 "metadata": {
  "kernelspec": {
   "display_name": "Python 3",
   "language": "python",
   "name": "python3"
  },
  "language_info": {
   "codemirror_mode": {
    "name": "ipython",
    "version": 3
   },
   "file_extension": ".py",
   "mimetype": "text/x-python",
   "name": "python",
   "nbconvert_exporter": "python",
   "pygments_lexer": "ipython3",
   "version": "3.8.8"
  }
 },
 "nbformat": 4,
 "nbformat_minor": 5
}
